{
 "cells": [
  {
   "cell_type": "code",
   "execution_count": 1,
   "id": "f947e180-0be0-48c2-8da1-67fe89095490",
   "metadata": {},
   "outputs": [],
   "source": [
    "library( \"IRkernel\" )\n",
    "IRkernel::installspec()"
   ]
  },
  {
   "cell_type": "code",
   "execution_count": 2,
   "id": "fbc896c9-ff01-40bd-8eb1-61f3d452db9e",
   "metadata": {},
   "outputs": [],
   "source": [
    "library( \"IRkernel\" )\n",
    "IRkernel::installspec()"
   ]
  },
  {
   "cell_type": "code",
   "execution_count": null,
   "id": "dca9ce09-24b1-40cf-93ae-b855abbfdaf6",
   "metadata": {},
   "outputs": [],
   "source": []
  }
 ],
 "metadata": {
  "kernelspec": {
   "display_name": "R",
   "language": "R",
   "name": "ir"
  },
  "language_info": {
   "codemirror_mode": "r",
   "file_extension": ".r",
   "mimetype": "text/x-r-source",
   "name": "R",
   "pygments_lexer": "r",
   "version": "4.2.1"
  }
 },
 "nbformat": 4,
 "nbformat_minor": 5
}
